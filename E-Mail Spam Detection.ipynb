{
 "cells": [
  {
   "cell_type": "markdown",
   "metadata": {},
   "source": [
    "# Data Visualization"
   ]
  },
  {
   "cell_type": "code",
   "execution_count": 1,
   "metadata": {},
   "outputs": [
    {
     "name": "stdout",
     "output_type": "stream",
     "text": [
      "2551\n"
     ]
    }
   ],
   "source": [
    "import os\n",
    "ham_mails=os.listdir(r'C:\\Users\\Virat\\Desktop\\New folder\\ML\\hamnspam\\ham')\n",
    "print(len(ham_mails))"
   ]
  },
  {
   "cell_type": "code",
   "execution_count": 2,
   "metadata": {},
   "outputs": [
    {
     "name": "stdout",
     "output_type": "stream",
     "text": [
      "501\n"
     ]
    }
   ],
   "source": [
    "spam_mails=os.listdir(r'C:\\Users\\Virat\\Desktop\\New folder\\ML\\hamnspam\\spam')\n",
    "print(len(spam_mails))"
   ]
  },
  {
   "cell_type": "code",
   "execution_count": 3,
   "metadata": {},
   "outputs": [
    {
     "name": "stdout",
     "output_type": "stream",
     "text": [
      "Spam Percentage= 16.41546526867628\n"
     ]
    }
   ],
   "source": [
    "print(\"Spam Percentage=\",(len(spam_mails)/(len(spam_mails)+len(ham_mails)))*100)"
   ]
  },
  {
   "cell_type": "code",
   "execution_count": 4,
   "metadata": {},
   "outputs": [
    {
     "data": {
      "image/png": "[encoded data removed]",
      "text/plain": [
       "<Figure size 432x288 with 1 Axes>"
      ]
     },
     "metadata": {
      "needs_background": "light"
     },
     "output_type": "display_data"
    }
   ],
   "source": [
    "import matplotlib.pyplot as plt\n",
    "names=['ham mails', 'spam mails']\n",
    "values=[len(ham_mails), len(spam_mails)]\n",
    "plt.bar(names, values)\n",
    "plt.show()"
   ]
  },
  {
   "cell_type": "markdown",
   "metadata": {},
   "source": [
    "### Importing the Emails"
   ]
  },
  {
   "cell_type": "code",
   "execution_count": 5,
   "metadata": {},
   "outputs": [],
   "source": [
    "import email\n",
    "def email_read(path, filename):\n",
    "    with open(os.path.join(path, filename), 'rb') as e_file:\n",
    "        email_file = email.parser.BytesParser(policy=email.policy.default).parse(e_file)\n",
    "    return email_file"
   ]
  },
  {
   "cell_type": "code",
   "execution_count": 6,
   "metadata": {},
   "outputs": [],
   "source": [
    "import email.policy\n",
    "email_ham=[email_read(r'C:\\Users\\Virat\\Desktop\\New folder\\ML\\hamnspam\\ham', filename) for filename in ham_mails]\n",
    "email_spam=[email_read(r'C:\\Users\\Virat\\Desktop\\New folder\\ML\\hamnspam\\spam', filename) for filename in spam_mails]"
   ]
  },
  {
   "cell_type": "code",
   "execution_count": 7,
   "metadata": {},
   "outputs": [
    {
     "name": "stdout",
     "output_type": "stream",
     "text": [
      "Ham-Email Content:  --- In forteana@y..., \"D.McMann\" <dmcmann@b...> wrote:\n",
      "> Robert Moaby, 33, who sent death threats to staff, was also jailed\n",
      "> for hoarding indecent pictures of children on his home computer.\n",
      "> =========\n",
      "> \n",
      "> Hmm, if I didn't trust our government and secret police, I could \n",
      "look at\n",
      "> this another way....\n",
      "\n",
      "There is a bit of circumstantial evidence - apparently some MT \n",
      "listers were approached by him (via email) - a little research in \n",
      "dejanews/google groups showed a number of messages from him, clearly \n",
      "hoping to contact girls, appearing in \"alt.teens\" and similar groups -\n",
      " I just tried a Google Groups search on \"Robert Moaby\" and some of \n",
      "them came top of the list.\n",
      "\n",
      "Note for Marie - \"MT\" stands for Mark Thomas, a slightly slimmer, UK \n",
      "version of your Michael Moore - the mailing list is named after him. \n",
      "\n",
      "Rob\n",
      "\n",
      "\n",
      "------------------------ Yahoo! Groups Sponsor ---------------------~-->\n",
      "4 DVDs Free +s&p Join Now\n",
      "http://us.click.yahoo.com/pt6YBB/NXiEAA/mG3HAA/7gSolB/TM\n",
      "---------------------------------------------------------------------~->\n",
      "\n",
      "To unsubscribe from this group, send an email to:\n",
      "forteana-unsubscribe@egroups.com\n",
      "\n",
      " \n",
      "\n",
      "Your use of Yahoo! Groups is subject to http://docs.yahoo.com/info/terms/ \n",
      "\n",
      "\n",
      "\n",
      "\n"
     ]
    }
   ],
   "source": [
    "print('Ham-Email Content: ',email_ham[20].get_content())"
   ]
  },
  {
   "cell_type": "code",
   "execution_count": 8,
   "metadata": {},
   "outputs": [
    {
     "name": "stdout",
     "output_type": "stream",
     "text": [
      "Spam-Email Content:  I thought you might like these:\n",
      "1) Slim Down - Guaranteed to lose 10-12 lbs in 30 days\n",
      "http://www.freeyankee.com/cgi/fy2/to.cgi?l=822slim1\n",
      "\n",
      "2) Fight The Risk of Cancer! \n",
      "http://www.freeyankee.com/cgi/fy2/to.cgi?l=822nic1 \n",
      "\n",
      "3) Get the Child Support You Deserve - Free Legal Advice \n",
      "http://www.freeyankee.com/cgi/fy2/to.cgi?l=822ppl1\n",
      "\n",
      "Offer Manager\n",
      "Daily-Deals\n",
      "\n",
      "\n",
      "\n",
      "\n",
      "\n",
      "\n",
      "\n",
      "\n",
      "If you wish to leave this list please use the link below.\n",
      "http://www.qves.com/trim/?social@linux.ie%7C29%7C134077\n",
      "\n",
      "\n",
      "-- \n",
      "Irish Linux Users' Group Social Events: social@linux.ie\n",
      "http://www.linux.ie/mailman/listinfo/social for (un)subscription information.\n",
      "List maintainer: listmaster@linux.ie\n",
      "\n",
      "\n"
     ]
    }
   ],
   "source": [
    "print('Spam-Email Content: ',email_spam[5].get_content())"
   ]
  },
  {
   "cell_type": "markdown",
   "metadata": {},
   "source": [
    "### E-Mail types"
   ]
  },
  {
   "cell_type": "code",
   "execution_count": 9,
   "metadata": {},
   "outputs": [
    {
     "name": "stdout",
     "output_type": "stream",
     "text": [
      "Ham-Email types:  {'text/plain', 'multipart/report', 'multipart/mixed', 'multipart/related', 'multipart/alternative', 'multipart/signed'}\n",
      "Spam-Email types:  {'text/plain', 'multipart/mixed', 'text/html', 'multipart/related', 'multipart/alternative'}\n"
     ]
    }
   ],
   "source": [
    "ham_type=[]\n",
    "spam_type=[]\n",
    "for i in range(len(email_ham)):\n",
    "    ham_type.append(email_ham[i].get_content_type())\n",
    "for i in range(len(email_spam)):\n",
    "    spam_type.append(email_spam[i].get_content_type())\n",
    "\n",
    "print('Ham-Email types: ', set(ham_type))\n",
    "print('Spam-Email types: ',set(spam_type))"
   ]
  },
  {
   "cell_type": "markdown",
   "metadata": {},
   "source": [
    "### E-Mail Preproccessing"
   ]
  },
  {
   "cell_type": "code",
   "execution_count": 10,
   "metadata": {},
   "outputs": [],
   "source": [
    "import re\n",
    "\n",
    "ham=[]\n",
    "spam=[]\n",
    "\n",
    "def modified_email(mail):\n",
    "    remove=re.compile('<.*?>')\n",
    "    modified=re.sub(remove,'',mail)\n",
    "    modified=modified.replace('\\n',' ')\n",
    "    mod_ham=re.sub(r\"[^a-zA-Z0-9]+\", ' ', modified)\n",
    "    return mod_ham\n",
    "\n",
    "for mail in email_ham:\n",
    "    try:\n",
    "        if mail.get_content_type()=='text/plain' or mail.get_content_type()=='text/html':\n",
    "            content=mail.get_content()\n",
    "            e_mail=modified_email(content)\n",
    "            ham.append(e_mail.lower())\n",
    "    \n",
    "    except LookupError:\n",
    "        pass\n",
    "        \n",
    "for mail in email_spam:\n",
    "    try:\n",
    "        if mail.get_content_type()=='text/plain' or mail.get_content_type()=='text/html':\n",
    "            content=mail.get_content()\n",
    "            e_mail=modified_email(content)\n",
    "            spam.append(e_mail.lower())\n",
    "        \n",
    "    except LookupError:\n",
    "        pass"
   ]
  },
  {
   "cell_type": "code",
   "execution_count": 11,
   "metadata": {},
   "outputs": [
    {
     "name": "stdout",
     "output_type": "stream",
     "text": [
      " in adding cream to spaghetti carbonara which has the same effect on pasta as making a pizza a deep pie i just had to jump in here as carbonara is one of my favourites to make and ask what the hell are you supposed to use instead of cream i ve never seen a recipe that hasn t used this personally i use low fat creme fraiche because it works quite nicely but the only time i ve seen an supposedly authentic recipe for carbonara it was identical to mine cream eggs and lots of fresh parmesan except for the creme fraiche stew stewart smith scottish microelectronics centre university of edinburgh http www ee ed ac uk sxs yahoo groups sponsor 4 dvds free s p join now http us click yahoo com pt6ybb nxieaa mg3haa 7gsolb tm to unsubscribe from this group send an email to forteana unsubscribe egroups com your use of yahoo groups is subject to http docs yahoo com info terms \n"
     ]
    }
   ],
   "source": [
    "print(ham[5])"
   ]
  },
  {
   "cell_type": "code",
   "execution_count": 12,
   "metadata": {},
   "outputs": [
    {
     "name": "stdout",
     "output_type": "stream",
     "text": [
      "kenya do you have too much debt would you like to lower your monthly payments and save money let us help you click here if you would like to be taken off our list click here 2170uzha6 646nlhk0895sdnb0 294bcpgl32 \n"
     ]
    }
   ],
   "source": [
    "print(spam[60])"
   ]
  },
  {
   "cell_type": "markdown",
   "metadata": {},
   "source": [
    "### ham and spam e-mails after preproccessing"
   ]
  },
  {
   "cell_type": "code",
   "execution_count": 13,
   "metadata": {},
   "outputs": [
    {
     "name": "stdout",
     "output_type": "stream",
     "text": [
      "Ham-Emails:  2453 \n",
      "Spam-Emails:  400\n"
     ]
    }
   ],
   "source": [
    "print('Ham-Emails: ',len(ham), '\\nSpam-Emails: ',len(spam))"
   ]
  },
  {
   "cell_type": "code",
   "execution_count": 14,
   "metadata": {},
   "outputs": [
    {
     "data": {
      "image/png": "[encoded data removed]",
      "text/plain": [
       "<Figure size 432x288 with 1 Axes>"
      ]
     },
     "metadata": {
      "needs_background": "light"
     },
     "output_type": "display_data"
    }
   ],
   "source": [
    "names=['ham mails', 'spam mails']\n",
    "values=[len(ham), len(spam)]\n",
    "plt.bar(names, values)\n",
    "plt.show()"
   ]
  },
  {
   "cell_type": "markdown",
   "metadata": {},
   "source": [
    "### Arranging the dataset in dataframe"
   ]
  },
  {
   "cell_type": "code",
   "execution_count": 15,
   "metadata": {},
   "outputs": [],
   "source": [
    "import pandas as pd\n",
    "\n",
    "ham=pd.DataFrame(ham, columns=['Content'])\n",
    "ham['Labels']=1\n",
    "\n",
    "spam=pd.DataFrame(spam, columns=['Content'])\n",
    "spam['Labels']=0"
   ]
  },
  {
   "cell_type": "code",
   "execution_count": 16,
   "metadata": {},
   "outputs": [
    {
     "name": "stdout",
     "output_type": "stream",
     "text": [
      "Ham Emails:  (2453, 2)\n",
      "Spam Emails:  (400, 2)\n",
      "                                             Content  Labels\n",
      "0   date wed 21 aug 2002 10 54 46 0500 from chris...       1\n",
      "1  martin a posted tassos papadopoulos the greek ...       1\n",
      "2  man threatens explosion in moscow thursday aug...       1\n",
      "3  klez the virus that won t die already the most...       1\n",
      "4  on wed aug 21 2002 at 15 46 ulises ponce wrote...       1\n",
      "\n",
      "                                             Content  Labels\n",
      "0  mv 1 00001 bfc8d64d12b325ff385cca8d07b84288 mv...       0\n",
      "1   table border 0 cellpadding 0 cellspacing 2 id...       0\n",
      "2  1 fight the risk of cancer http www adclick ws...       0\n",
      "3  1 fight the risk of cancer http www adclick ws...       0\n",
      "4   adult club offers free membership instant acc...       0\n"
     ]
    }
   ],
   "source": [
    "print('Ham Emails: ',ham.shape)\n",
    "print('Spam Emails: ', spam.shape)\n",
    "print(ham.head())\n",
    "print()\n",
    "print(spam.head())"
   ]
  },
  {
   "cell_type": "markdown",
   "metadata": {},
   "source": [
    "### Concatinating both dataframes into one"
   ]
  },
  {
   "cell_type": "code",
   "execution_count": 17,
   "metadata": {},
   "outputs": [],
   "source": [
    "df=pd.concat([ham, spam], axis=0)\n",
    "df=df.sample(frac=1)"
   ]
  },
  {
   "cell_type": "code",
   "execution_count": 18,
   "metadata": {},
   "outputs": [
    {
     "data": {
      "text/html": [
       "<div>\n",
       "<style scoped>\n",
       "    .dataframe tbody tr th:only-of-type {\n",
       "        vertical-align: middle;\n",
       "    }\n",
       "\n",
       "    .dataframe tbody tr th {\n",
       "        vertical-align: top;\n",
       "    }\n",
       "\n",
       "    .dataframe thead th {\n",
       "        text-align: right;\n",
       "    }\n",
       "</style>\n",
       "<table border=\"1\" class=\"dataframe\">\n",
       "  <thead>\n",
       "    <tr style=\"text-align: right;\">\n",
       "      <th></th>\n",
       "      <th>Content</th>\n",
       "      <th>Labels</th>\n",
       "    </tr>\n",
       "  </thead>\n",
       "  <tbody>\n",
       "    <tr>\n",
       "      <th>2096</th>\n",
       "      <td>url http boingboing net 85506950 date not supp...</td>\n",
       "      <td>1</td>\n",
       "    </tr>\n",
       "    <tr>\n",
       "      <th>2266</th>\n",
       "      <td>url http www newsisfree com click 5 8535468 21...</td>\n",
       "      <td>1</td>\n",
       "    </tr>\n",
       "    <tr>\n",
       "      <th>1048</th>\n",
       "      <td>gotta wonder what the gpg config stuff in exm...</td>\n",
       "      <td>1</td>\n",
       "    </tr>\n",
       "    <tr>\n",
       "      <th>1326</th>\n",
       "      <td>once upon a time jon wrote since libdvdcss 1 2...</td>\n",
       "      <td>1</td>\n",
       "    </tr>\n",
       "    <tr>\n",
       "      <th>54</th>\n",
       "      <td>see us for free hi there me and my slutty ama...</td>\n",
       "      <td>0</td>\n",
       "    </tr>\n",
       "  </tbody>\n",
       "</table>\n",
       "</div>"
      ],
      "text/plain": [
       "                                                Content  Labels\n",
       "2096  url http boingboing net 85506950 date not supp...       1\n",
       "2266  url http www newsisfree com click 5 8535468 21...       1\n",
       "1048   gotta wonder what the gpg config stuff in exm...       1\n",
       "1326  once upon a time jon wrote since libdvdcss 1 2...       1\n",
       "54     see us for free hi there me and my slutty ama...       0"
      ]
     },
     "execution_count": 18,
     "metadata": {},
     "output_type": "execute_result"
    }
   ],
   "source": [
    "df.head()"
   ]
  },
  {
   "cell_type": "code",
   "execution_count": 19,
   "metadata": {},
   "outputs": [],
   "source": [
    "for i in df['Content']:\n",
    "    if type(i) != str:\n",
    "        print(type(i),end = ',')"
   ]
  },
  {
   "cell_type": "code",
   "execution_count": 20,
   "metadata": {},
   "outputs": [
    {
     "name": "stdout",
     "output_type": "stream",
     "text": [
      "(2853, 2)\n"
     ]
    }
   ],
   "source": [
    "print(df.shape)"
   ]
  },
  {
   "cell_type": "markdown",
   "metadata": {},
   "source": [
    "### Encoding and Splitting the data"
   ]
  },
  {
   "cell_type": "code",
   "execution_count": 25,
   "metadata": {},
   "outputs": [],
   "source": [
    "from sklearn.feature_extraction.text import TfidfVectorizer #To tokenize the text data\n",
    "tfidf=TfidfVectorizer()\n",
    "X=tfidf.fit_transform(df['Content'])\n",
    "# X=pd.DataFrame(X)\n",
    "Y=df['Labels']"
   ]
  },
  {
   "cell_type": "code",
   "execution_count": 26,
   "metadata": {},
   "outputs": [],
   "source": [
    "from sklearn.model_selection import train_test_split\n",
    "\n",
    "X_train, X_test, y_train, y_test = train_test_split(X, Y, test_size=0.2, random_state=42)"
   ]
  },
  {
   "cell_type": "markdown",
   "metadata": {},
   "source": [
    "### Training and Testing the data"
   ]
  },
  {
   "cell_type": "markdown",
   "metadata": {},
   "source": [
    "### 1. Logistic Regression (Accuracy: 94.57092819614711)"
   ]
  },
  {
   "cell_type": "code",
   "execution_count": 28,
   "metadata": {},
   "outputs": [
    {
     "name": "stdout",
     "output_type": "stream",
     "text": [
      "94.57092819614711\n"
     ]
    }
   ],
   "source": [
    "from sklearn.linear_model import LogisticRegression\n",
    "clf=LogisticRegression()\n",
    "clf.fit(X_train, y_train)\n",
    "y_pred=clf.predict(X_test)\n",
    "from sklearn.metrics import accuracy_score\n",
    "accuracy=accuracy_score(y_pred, y_test)*100\n",
    "print(accuracy)"
   ]
  },
  {
   "cell_type": "markdown",
   "metadata": {},
   "source": [
    "### 2. Random Forest Regressor (Accuracy: 95.6217162872154)"
   ]
  },
  {
   "cell_type": "code",
   "execution_count": 31,
   "metadata": {},
   "outputs": [
    {
     "name": "stdout",
     "output_type": "stream",
     "text": [
      "{'n_estimators': 100, 'max_depth': 8, 'bootstrap': True}\n",
      "0.7655495961181134\n"
     ]
    }
   ],
   "source": [
    "from sklearn.ensemble import RandomForestRegressor\n",
    "from sklearn.model_selection import RandomizedSearchCV\n",
    "\n",
    "def hypertuning():\n",
    "    rf_regressor = RandomForestRegressor()\n",
    "    parameters = {\n",
    "        'max_depth': [3, 5, 8, 10, None],\n",
    "        'n_estimators': [10, 100, 200, 300, 400, 500],\n",
    "        'bootstrap': [True, False]\n",
    "    }\n",
    "    rf_model = RandomizedSearchCV(rf_regressor, param_distributions=parameters, n_jobs=-1, cv=5)\n",
    "    rf_model.fit(X_train, y_train)\n",
    "    print(rf_model.best_params_)\n",
    "    print(rf_model.best_score_)\n",
    "    return rf_model\n",
    "\n",
    "rf_model = hypertuning()\n",
    "ypred = rf_model.predict(X_test)"
   ]
  },
  {
   "cell_type": "code",
   "execution_count": 41,
   "metadata": {},
   "outputs": [
    {
     "name": "stdout",
     "output_type": "stream",
     "text": [
      "95.6217162872154\n"
     ]
    }
   ],
   "source": [
    "from sklearn.metrics import accuracy_score\n",
    "accuracy=accuracy_score(y_pred.round(), y_test)*100\n",
    "print(accuracy)"
   ]
  },
  {
   "cell_type": "markdown",
   "metadata": {},
   "source": [
    "### 3. Decision Tree Classifier (Accuracy: 96.14711033274956)"
   ]
  },
  {
   "cell_type": "code",
   "execution_count": 46,
   "metadata": {},
   "outputs": [],
   "source": [
    "from sklearn.tree import DecisionTreeClassifier\n",
    "d_clf=DecisionTreeClassifier()\n",
    "d_clf.fit(X_train, y_train)\n",
    "y_predict=d_clf.predict(X_test)"
   ]
  },
  {
   "cell_type": "code",
   "execution_count": 47,
   "metadata": {},
   "outputs": [
    {
     "name": "stdout",
     "output_type": "stream",
     "text": [
      "96.14711033274956\n"
     ]
    }
   ],
   "source": [
    "from sklearn.metrics import accuracy_score\n",
    "accuracy=accuracy_score(y_predict, y_test)*100\n",
    "print(accuracy)"
   ]
  },
  {
   "cell_type": "markdown",
   "metadata": {},
   "source": [
    "### 4. KNN Classifier (Accuracy: 98.42381786339755)"
   ]
  },
  {
   "cell_type": "code",
   "execution_count": 65,
   "metadata": {},
   "outputs": [],
   "source": [
    "from sklearn.neighbors import KNeighborsClassifier\n",
    "KNN_clf=KNeighborsClassifier(n_neighbors =5,weights = 'distance',p = 2)\n",
    "KNN_clf.fit(X_train, y_train)\n",
    "yprediction=KNN_clf.predict(X_test)"
   ]
  },
  {
   "cell_type": "code",
   "execution_count": 66,
   "metadata": {},
   "outputs": [
    {
     "name": "stdout",
     "output_type": "stream",
     "text": [
      "98.42381786339755\n"
     ]
    }
   ],
   "source": [
    "from sklearn.metrics import accuracy_score\n",
    "accuracy=accuracy_score(yprediction, y_test)*100\n",
    "print(accuracy)"
   ]
  }
 ],
 "metadata": {
  "kernelspec": {
   "display_name": "Python 3",
   "language": "python",
   "name": "python3"
  },
  "language_info": {
   "codemirror_mode": {
    "name": "ipython",
    "version": 3
   },
   "file_extension": ".py",
   "mimetype": "text/x-python",
   "name": "python",
   "nbconvert_exporter": "python",
   "pygments_lexer": "ipython3",
   "version": "3.8.5"
  }
 },
 "nbformat": 4,
 "nbformat_minor": 4
}
